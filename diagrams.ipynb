{
  "nbformat": 4,
  "nbformat_minor": 0,
  "metadata": {
    "colab": {
      "provenance": [],
      "machine_shape": "hm"
    },
    "kernelspec": {
      "name": "python3",
      "display_name": "Python 3"
    },
    "language_info": {
      "name": "python"
    },
    "gpuClass": "standard"
  },
  "cells": [
    {
      "cell_type": "code",
      "execution_count": null,
      "metadata": {
        "id": "qTSbYd6E0PXh"
      },
      "outputs": [],
      "source": [
        "import matplotlib.pyplot as plt\n",
        "import seaborn as sns\n",
        "import pandas as pd\n",
        "import numpy as np\n",
        "import os \n",
        "import nibabel as nib\n"
      ]
    },
    {
      "cell_type": "code",
      "source": [
        "df = pd.read_csv(\"drive/MyDrive/dementia/ADNI1_Complete_1Yr_1.5T_11_16_2022.csv\")\n",
        "df = df[['Image Data ID', 'Group','Age', 'Sex']]\n",
        "df.rename(columns={'Image Data ID':'MRI_ID', 'Group':'Diagnosis'}, inplace=True)\n",
        "\n",
        "path = \"drive/MyDrive/dementia\"\n",
        "list_dir = os.listdir(path)\n",
        "final_df = pd.DataFrame(columns=[\"MRI_Path\", \"Diagnosis\"])\n",
        "for i in range(0,2294):\n",
        "\tfor nifti in list_dir:\n",
        "\t\tif df.MRI_ID[i] in nifti:\n",
        "\t\t\tprint(str(df.MRI_ID[i]) + \" added\")\n",
        "\t\t\tnew_row = {\"MRI_Path\" : nifti, \"Diagnosis\" : df.Diagnosis[i]}\n",
        "\t\t\tfinal_df = pd.concat([final_df,pd.DataFrame([new_row])], ignore_index=True)\n",
        "   \n",
        "list_of_paths = []\n",
        "diagnosis = []\n",
        "\n",
        "list_of_paths = final_df['MRI_Path'].tolist()\n",
        "diagnosis = final_df['Diagnosis'].tolist()"
      ],
      "metadata": {
        "id": "ZtKFGDXV0WRy"
      },
      "execution_count": null,
      "outputs": []
    },
    {
      "cell_type": "code",
      "source": [
        "existing_ids = [os.path.basename(f).split(\"_\")[-1].split(\".\")[0] for f in list_of_paths]\n",
        "df = df.loc[df['MRI_ID'].isin(existing_ids)]"
      ],
      "metadata": {
        "id": "S4I-ZmVYrEKB"
      },
      "execution_count": null,
      "outputs": []
    },
    {
      "cell_type": "code",
      "source": [
        "binary_list_of_paths = []\n",
        "binary_diagnosis = []\n",
        "\n",
        "def keep_binary(start_index, end_index):\n",
        "  for i in range(start_index, end_index):\n",
        "    if diagnosis[i]!=\"MCI\":\n",
        "      binary_list_of_paths.append(list_of_paths[i])\n",
        "      binary_diagnosis.append(diagnosis[i])\n",
        "      print(\"appended MRI number \" + str(i))\n",
        "\n",
        "  print(len(binary_list_of_paths), len(binary_diagnosis))"
      ],
      "metadata": {
        "id": "EyckApbT2xwV"
      },
      "execution_count": null,
      "outputs": []
    },
    {
      "cell_type": "code",
      "source": [
        "keep_binary(0,len(list_of_paths))"
      ],
      "metadata": {
        "id": "oE-IGo9A2ytX"
      },
      "execution_count": null,
      "outputs": []
    },
    {
      "cell_type": "code",
      "source": [
        "data = {'MRI_Path': binary_list_of_paths, 'Diagnosis': binary_diagnosis}\n",
        "binary_df = pd.DataFrame(data)"
      ],
      "metadata": {
        "id": "F6ZtPrAT237x"
      },
      "execution_count": null,
      "outputs": []
    },
    {
      "cell_type": "code",
      "source": [
        "binary_df.groupby(binary_df.Diagnosis).count()"
      ],
      "metadata": {
        "colab": {
          "base_uri": "https://localhost:8080/",
          "height": 143
        },
        "id": "YVCAdx5n81CO",
        "outputId": "3765ae72-4ff6-4aa0-81ce-e531ce48abd1"
      },
      "execution_count": null,
      "outputs": [
        {
          "output_type": "execute_result",
          "data": {
            "text/plain": [
              "           MRI_Path\n",
              "Diagnosis          \n",
              "AD              320\n",
              "CN              443"
            ],
            "text/html": [
              "\n",
              "  <div id=\"df-608e4f37-f1ec-4118-8c51-f30752145415\">\n",
              "    <div class=\"colab-df-container\">\n",
              "      <div>\n",
              "<style scoped>\n",
              "    .dataframe tbody tr th:only-of-type {\n",
              "        vertical-align: middle;\n",
              "    }\n",
              "\n",
              "    .dataframe tbody tr th {\n",
              "        vertical-align: top;\n",
              "    }\n",
              "\n",
              "    .dataframe thead th {\n",
              "        text-align: right;\n",
              "    }\n",
              "</style>\n",
              "<table border=\"1\" class=\"dataframe\">\n",
              "  <thead>\n",
              "    <tr style=\"text-align: right;\">\n",
              "      <th></th>\n",
              "      <th>MRI_Path</th>\n",
              "    </tr>\n",
              "    <tr>\n",
              "      <th>Diagnosis</th>\n",
              "      <th></th>\n",
              "    </tr>\n",
              "  </thead>\n",
              "  <tbody>\n",
              "    <tr>\n",
              "      <th>AD</th>\n",
              "      <td>320</td>\n",
              "    </tr>\n",
              "    <tr>\n",
              "      <th>CN</th>\n",
              "      <td>443</td>\n",
              "    </tr>\n",
              "  </tbody>\n",
              "</table>\n",
              "</div>\n",
              "      <button class=\"colab-df-convert\" onclick=\"convertToInteractive('df-608e4f37-f1ec-4118-8c51-f30752145415')\"\n",
              "              title=\"Convert this dataframe to an interactive table.\"\n",
              "              style=\"display:none;\">\n",
              "        \n",
              "  <svg xmlns=\"http://www.w3.org/2000/svg\" height=\"24px\"viewBox=\"0 0 24 24\"\n",
              "       width=\"24px\">\n",
              "    <path d=\"M0 0h24v24H0V0z\" fill=\"none\"/>\n",
              "    <path d=\"M18.56 5.44l.94 2.06.94-2.06 2.06-.94-2.06-.94-.94-2.06-.94 2.06-2.06.94zm-11 1L8.5 8.5l.94-2.06 2.06-.94-2.06-.94L8.5 2.5l-.94 2.06-2.06.94zm10 10l.94 2.06.94-2.06 2.06-.94-2.06-.94-.94-2.06-.94 2.06-2.06.94z\"/><path d=\"M17.41 7.96l-1.37-1.37c-.4-.4-.92-.59-1.43-.59-.52 0-1.04.2-1.43.59L10.3 9.45l-7.72 7.72c-.78.78-.78 2.05 0 2.83L4 21.41c.39.39.9.59 1.41.59.51 0 1.02-.2 1.41-.59l7.78-7.78 2.81-2.81c.8-.78.8-2.07 0-2.86zM5.41 20L4 18.59l7.72-7.72 1.47 1.35L5.41 20z\"/>\n",
              "  </svg>\n",
              "      </button>\n",
              "      \n",
              "  <style>\n",
              "    .colab-df-container {\n",
              "      display:flex;\n",
              "      flex-wrap:wrap;\n",
              "      gap: 12px;\n",
              "    }\n",
              "\n",
              "    .colab-df-convert {\n",
              "      background-color: #E8F0FE;\n",
              "      border: none;\n",
              "      border-radius: 50%;\n",
              "      cursor: pointer;\n",
              "      display: none;\n",
              "      fill: #1967D2;\n",
              "      height: 32px;\n",
              "      padding: 0 0 0 0;\n",
              "      width: 32px;\n",
              "    }\n",
              "\n",
              "    .colab-df-convert:hover {\n",
              "      background-color: #E2EBFA;\n",
              "      box-shadow: 0px 1px 2px rgba(60, 64, 67, 0.3), 0px 1px 3px 1px rgba(60, 64, 67, 0.15);\n",
              "      fill: #174EA6;\n",
              "    }\n",
              "\n",
              "    [theme=dark] .colab-df-convert {\n",
              "      background-color: #3B4455;\n",
              "      fill: #D2E3FC;\n",
              "    }\n",
              "\n",
              "    [theme=dark] .colab-df-convert:hover {\n",
              "      background-color: #434B5C;\n",
              "      box-shadow: 0px 1px 3px 1px rgba(0, 0, 0, 0.15);\n",
              "      filter: drop-shadow(0px 1px 2px rgba(0, 0, 0, 0.3));\n",
              "      fill: #FFFFFF;\n",
              "    }\n",
              "  </style>\n",
              "\n",
              "      <script>\n",
              "        const buttonEl =\n",
              "          document.querySelector('#df-608e4f37-f1ec-4118-8c51-f30752145415 button.colab-df-convert');\n",
              "        buttonEl.style.display =\n",
              "          google.colab.kernel.accessAllowed ? 'block' : 'none';\n",
              "\n",
              "        async function convertToInteractive(key) {\n",
              "          const element = document.querySelector('#df-608e4f37-f1ec-4118-8c51-f30752145415');\n",
              "          const dataTable =\n",
              "            await google.colab.kernel.invokeFunction('convertToInteractive',\n",
              "                                                     [key], {});\n",
              "          if (!dataTable) return;\n",
              "\n",
              "          const docLinkHtml = 'Like what you see? Visit the ' +\n",
              "            '<a target=\"_blank\" href=https://colab.research.google.com/notebooks/data_table.ipynb>data table notebook</a>'\n",
              "            + ' to learn more about interactive tables.';\n",
              "          element.innerHTML = '';\n",
              "          dataTable['output_type'] = 'display_data';\n",
              "          await google.colab.output.renderOutput(dataTable, element);\n",
              "          const docLink = document.createElement('div');\n",
              "          docLink.innerHTML = docLinkHtml;\n",
              "          element.appendChild(docLink);\n",
              "        }\n",
              "      </script>\n",
              "    </div>\n",
              "  </div>\n",
              "  "
            ]
          },
          "metadata": {},
          "execution_count": 29
        }
      ]
    },
    {
      "cell_type": "code",
      "source": [
        "def show_slices(img):\n",
        "\tslice_x = img[50,:,:]\n",
        "\tslice_y = img[:,50,:]\n",
        "\tslice_z = img[:,:,50]\n",
        "\tslices = [slice_x, slice_y, slice_z]\n",
        "\n",
        "\tfig,axis = plt.subplots(1,len(slices))\n",
        "\tfor i, slice in enumerate(slices):\n",
        "\t  axis[i].imshow(slice.T, cmap=\"gray\", origin=\"lower\")\n",
        "\tplt.show()"
      ],
      "metadata": {
        "id": "BG_WnQt3upYK"
      },
      "execution_count": null,
      "outputs": []
    },
    {
      "cell_type": "code",
      "source": [
        "raw = nib.load(\"drive/MyDrive/ADNI_133_S_0792_MR_MPR__GradWarp__B1_Correction__N3__Scaled_2_Br_20081008094227100_S29222_I119622.nii\").get_fdata()\n",
        "show_slices(raw)\n",
        "stripped = nib.load(\"drive/MyDrive/dementia/stripped_ADNI_133_S_0792_MR_MPR__GradWarp__B1_Correction__N3__Scaled_2_Br_20081008094227100_S29222_I119622.nii\").get_fdata()\n",
        "show_slices(stripped)"
      ],
      "metadata": {
        "colab": {
          "base_uri": "https://localhost:8080/",
          "height": 275
        },
        "id": "llw2Gr6aueiC",
        "outputId": "883bed7e-40c3-4811-ce72-3b5a74dc8a36"
      },
      "execution_count": null,
      "outputs": [
        {
          "output_type": "display_data",
          "data": {
            "text/plain": [
              "<Figure size 432x288 with 3 Axes>"
            ],
            "image/png": "[encoded data removed]"
          },
          "metadata": {
            "needs_background": "light"
          }
        },
        {
          "output_type": "display_data",
          "data": {
            "text/plain": [
              "<Figure size 432x288 with 3 Axes>"
            ],
            "image/png": "[encoded data removed]"
          },
          "metadata": {
            "needs_background": "light"
          }
        }
      ]
    },
    {
      "cell_type": "code",
      "source": [
        "img = nib.load('drive/MyDrive/dementia/' + list_of_paths[199])\n",
        "data = img.get_fdata()\n",
        "\n",
        "# Get the voxel intensity values\n",
        "voxels = data.flatten()\n",
        "\n",
        "# Create the histogram\n",
        "plt.hist(voxels, bins=50, color = \"mediumpurple\")\n",
        "plt.title('Voxel Intensity Histogram')\n",
        "plt.xlabel('Intensity Value')\n",
        "plt.ylabel('Frequency')\n",
        "plt.show()"
      ],
      "metadata": {
        "id": "tiDU83OTyXIe"
      },
      "execution_count": null,
      "outputs": []
    },
    {
      "cell_type": "code",
      "source": [
        "img = nib.load('drive/MyDrive/dementia/' + list_of_paths[199])\n",
        "data = img.get_fdata()\n",
        "data = remove_zero_rows_columns_slices(data)\n",
        "\n",
        "# Get the voxel intensity values\n",
        "voxels = data.flatten()\n",
        "\n",
        "# Create the histogram\n",
        "plt.hist(voxels, bins=50, color=\"mediumpurple\")\n",
        "plt.title('Voxel Intensity Histogram(only-0 lines removed)')\n",
        "plt.xlabel('Intensity Value')\n",
        "plt.ylabel('Frequency')\n",
        "plt.show()"
      ],
      "metadata": {
        "id": "0guvNpESyYKj"
      },
      "execution_count": null,
      "outputs": []
    },
    {
      "cell_type": "code",
      "source": [
        "def remove_zero_rows_columns_slices(data):\n",
        "    # Find the slices that have only zero values\n",
        "    blank_slices = np.where(~np.all(data == 0, axis=(1, 2)))[0]\n",
        "    \n",
        "    # Remove the blank slices from the data\n",
        "    first_valid_slice = 0 if len(blank_slices) == 0 else blank_slices[0]\n",
        "    last_valid_slice = data.shape[0] - 1 if len(blank_slices) == 0 else blank_slices[-1]\n",
        "    data = data[first_valid_slice:last_valid_slice + 1, :, :]\n",
        "    \n",
        "    # Find the rows that have only zero values\n",
        "    blank_rows = np.where(~np.all(data == 0, axis=(0, 2)))[0]\n",
        "    \n",
        "    # Remove the blank rows from the data\n",
        "    first_valid_row = 0 if len(blank_rows) == 0 else blank_rows[0]\n",
        "    last_valid_row = data.shape[1] - 1 if len(blank_rows) == 0 else blank_rows[-1]\n",
        "    data = data[:, first_valid_row:last_valid_row + 1, :]\n",
        "    \n",
        "    # Find the columns that have only zero values\n",
        "    blank_columns = np.where(~np.all(data == 0, axis=(0, 1)))[0]\n",
        "    \n",
        "    # Remove the blank columns from the data\n",
        "    first_valid_column = 0 if len(blank_columns) == 0 else blank_columns[0]\n",
        "    last_valid_column = data.shape[2] - 1 if len(blank_columns) == 0 else blank_columns[-1]\n",
        "    data = data[:, :, first_valid_column:last_valid_column + 1]\n",
        "    \n",
        "    return data"
      ],
      "metadata": {
        "id": "G4eULNlG4QEH"
      },
      "execution_count": null,
      "outputs": []
    },
    {
      "cell_type": "code",
      "source": [
        "def make_intensity_histogram(strt, end):\n",
        "  # List to hold the MRI images\n",
        "  images = []\n",
        "\n",
        "  # Load the MRI images into the list\n",
        "  for i in range(strt,end):\n",
        "      images.append(remove_zero_rows_columns_slices(nib.load(\"drive/MyDrive/dementia/\" + list_of_paths[i]).get_fdata()))\n",
        "\n",
        "  for i, image in enumerate(images):\n",
        "      non_zero_vals = image[image != 0]\n",
        "      plt.hist(non_zero_vals, bins=256, color=plt.cm.viridis(i/len(images)), alpha=0.5, label=f'MRI {i+1}')\n",
        "\n",
        "  plt.xlabel('Intensity Value')\n",
        "  plt.ylabel('Frequency')\n",
        "  plt.title('Intensity Value Histograms of Images')\n",
        "  plt.legend()\n",
        "  plt.grid(True)\n",
        "\n",
        "  plt.show()"
      ],
      "metadata": {
        "id": "3MmiMIDo3lL2"
      },
      "execution_count": null,
      "outputs": []
    },
    {
      "cell_type": "code",
      "source": [
        "make_intensity_histogram(90,91)"
      ],
      "metadata": {
        "id": "bt5__tbYHU9m"
      },
      "execution_count": null,
      "outputs": []
    },
    {
      "cell_type": "code",
      "source": [
        "# Plot a histogram of the ages\n",
        "n, bins, patches = plt.hist(df[\"Age\"], bins=15, color=\"mediumpurple\", alpha=0.7)\n",
        "plt.xlabel(\"Age\")\n",
        "plt.ylabel(\"Count\")\n",
        "plt.title(\"Distribution of Age\")\n",
        "plt.show()\n",
        "\n",
        "ages = df['Age'].values\n",
        "mean = np.mean(ages)\n",
        "median = np.median(ages)\n",
        "mode = np.argmax(np.bincount(ages))\n",
        "range = np.max(ages) - np.min(ages)\n",
        "quantiles = np.percentile(ages, [25, 50, 75])\n",
        "\n",
        "print(\"the mean is: \" + str(mean))\n",
        "print(\"the median is \" + str(median))\n",
        "print(\"min is \" + str(np.min(ages)) + \" max is \" + str(np.max(ages)))\n",
        "print(\"the range is \" + str(range))"
      ],
      "metadata": {
        "colab": {
          "base_uri": "https://localhost:8080/",
          "height": 364
        },
        "id": "FFcnNMaS0dA6",
        "outputId": "2cae2857-a1c9-461b-b843-a8cda3f7ff11"
      },
      "execution_count": null,
      "outputs": [
        {
          "output_type": "display_data",
          "data": {
            "text/plain": [
              "<Figure size 432x288 with 1 Axes>"
            ],
            "image/png": "[encoded data removed]"
          },
          "metadata": {
            "needs_background": "light"
          }
        },
        {
          "output_type": "stream",
          "name": "stdout",
          "text": [
            "the mean is: 75.52571041948579\n",
            "the median is 76.0\n",
            "min is 55 max is 91\n",
            "the range is 36\n"
          ]
        }
      ]
    },
    {
      "cell_type": "code",
      "source": [
        "# Plot a bar chart of the distribution of sexes\n",
        "sns.countplot(df[\"Sex\"], color=\"mediumpurple\")\n",
        "plt.xlabel(\"Sex\")\n",
        "plt.ylabel(\"Count\")\n",
        "plt.title(\"Distribution of Sexes\")\n",
        "plt.show()"
      ],
      "metadata": {
        "colab": {
          "base_uri": "https://localhost:8080/",
          "height": 350
        },
        "id": "iNxFeNPH0rsj",
        "outputId": "ea3b179b-1328-48ef-a341-d95e89d975ce"
      },
      "execution_count": null,
      "outputs": [
        {
          "output_type": "stream",
          "name": "stderr",
          "text": [
            "/usr/local/lib/python3.8/dist-packages/seaborn/_decorators.py:36: FutureWarning: Pass the following variable as a keyword arg: x. From version 0.12, the only valid positional argument will be `data`, and passing other arguments without an explicit keyword will result in an error or misinterpretation.\n",
            "  warnings.warn(\n"
          ]
        },
        {
          "output_type": "display_data",
          "data": {
            "text/plain": [
              "<Figure size 432x288 with 1 Axes>"
            ],
            "image/png": "[encoded data removed]"
          },
          "metadata": {
            "needs_background": "light"
          }
        }
      ]
    },
    {
      "cell_type": "code",
      "source": [
        "df.groupby(df[\"Sex\"]).count()"
      ],
      "metadata": {
        "colab": {
          "base_uri": "https://localhost:8080/",
          "height": 143
        },
        "id": "TxxNniRQim69",
        "outputId": "7c13c23f-8ad4-4aa6-c8fb-d23d2746c919"
      },
      "execution_count": null,
      "outputs": [
        {
          "output_type": "execute_result",
          "data": {
            "text/plain": [
              "     MRI_ID  Diagnosis  Age\n",
              "Sex                        \n",
              "F       633        633  633\n",
              "M       845        845  845"
            ],
            "text/html": [
              "\n",
              "  <div id=\"df-1080ce70-f5c4-4e74-994b-c58928d55300\">\n",
              "    <div class=\"colab-df-container\">\n",
              "      <div>\n",
              "<style scoped>\n",
              "    .dataframe tbody tr th:only-of-type {\n",
              "        vertical-align: middle;\n",
              "    }\n",
              "\n",
              "    .dataframe tbody tr th {\n",
              "        vertical-align: top;\n",
              "    }\n",
              "\n",
              "    .dataframe thead th {\n",
              "        text-align: right;\n",
              "    }\n",
              "</style>\n",
              "<table border=\"1\" class=\"dataframe\">\n",
              "  <thead>\n",
              "    <tr style=\"text-align: right;\">\n",
              "      <th></th>\n",
              "      <th>MRI_ID</th>\n",
              "      <th>Diagnosis</th>\n",
              "      <th>Age</th>\n",
              "    </tr>\n",
              "    <tr>\n",
              "      <th>Sex</th>\n",
              "      <th></th>\n",
              "      <th></th>\n",
              "      <th></th>\n",
              "    </tr>\n",
              "  </thead>\n",
              "  <tbody>\n",
              "    <tr>\n",
              "      <th>F</th>\n",
              "      <td>633</td>\n",
              "      <td>633</td>\n",
              "      <td>633</td>\n",
              "    </tr>\n",
              "    <tr>\n",
              "      <th>M</th>\n",
              "      <td>845</td>\n",
              "      <td>845</td>\n",
              "      <td>845</td>\n",
              "    </tr>\n",
              "  </tbody>\n",
              "</table>\n",
              "</div>\n",
              "      <button class=\"colab-df-convert\" onclick=\"convertToInteractive('df-1080ce70-f5c4-4e74-994b-c58928d55300')\"\n",
              "              title=\"Convert this dataframe to an interactive table.\"\n",
              "              style=\"display:none;\">\n",
              "        \n",
              "  <svg xmlns=\"http://www.w3.org/2000/svg\" height=\"24px\"viewBox=\"0 0 24 24\"\n",
              "       width=\"24px\">\n",
              "    <path d=\"M0 0h24v24H0V0z\" fill=\"none\"/>\n",
              "    <path d=\"M18.56 5.44l.94 2.06.94-2.06 2.06-.94-2.06-.94-.94-2.06-.94 2.06-2.06.94zm-11 1L8.5 8.5l.94-2.06 2.06-.94-2.06-.94L8.5 2.5l-.94 2.06-2.06.94zm10 10l.94 2.06.94-2.06 2.06-.94-2.06-.94-.94-2.06-.94 2.06-2.06.94z\"/><path d=\"M17.41 7.96l-1.37-1.37c-.4-.4-.92-.59-1.43-.59-.52 0-1.04.2-1.43.59L10.3 9.45l-7.72 7.72c-.78.78-.78 2.05 0 2.83L4 21.41c.39.39.9.59 1.41.59.51 0 1.02-.2 1.41-.59l7.78-7.78 2.81-2.81c.8-.78.8-2.07 0-2.86zM5.41 20L4 18.59l7.72-7.72 1.47 1.35L5.41 20z\"/>\n",
              "  </svg>\n",
              "      </button>\n",
              "      \n",
              "  <style>\n",
              "    .colab-df-container {\n",
              "      display:flex;\n",
              "      flex-wrap:wrap;\n",
              "      gap: 12px;\n",
              "    }\n",
              "\n",
              "    .colab-df-convert {\n",
              "      background-color: #E8F0FE;\n",
              "      border: none;\n",
              "      border-radius: 50%;\n",
              "      cursor: pointer;\n",
              "      display: none;\n",
              "      fill: #1967D2;\n",
              "      height: 32px;\n",
              "      padding: 0 0 0 0;\n",
              "      width: 32px;\n",
              "    }\n",
              "\n",
              "    .colab-df-convert:hover {\n",
              "      background-color: #E2EBFA;\n",
              "      box-shadow: 0px 1px 2px rgba(60, 64, 67, 0.3), 0px 1px 3px 1px rgba(60, 64, 67, 0.15);\n",
              "      fill: #174EA6;\n",
              "    }\n",
              "\n",
              "    [theme=dark] .colab-df-convert {\n",
              "      background-color: #3B4455;\n",
              "      fill: #D2E3FC;\n",
              "    }\n",
              "\n",
              "    [theme=dark] .colab-df-convert:hover {\n",
              "      background-color: #434B5C;\n",
              "      box-shadow: 0px 1px 3px 1px rgba(0, 0, 0, 0.15);\n",
              "      filter: drop-shadow(0px 1px 2px rgba(0, 0, 0, 0.3));\n",
              "      fill: #FFFFFF;\n",
              "    }\n",
              "  </style>\n",
              "\n",
              "      <script>\n",
              "        const buttonEl =\n",
              "          document.querySelector('#df-1080ce70-f5c4-4e74-994b-c58928d55300 button.colab-df-convert');\n",
              "        buttonEl.style.display =\n",
              "          google.colab.kernel.accessAllowed ? 'block' : 'none';\n",
              "\n",
              "        async function convertToInteractive(key) {\n",
              "          const element = document.querySelector('#df-1080ce70-f5c4-4e74-994b-c58928d55300');\n",
              "          const dataTable =\n",
              "            await google.colab.kernel.invokeFunction('convertToInteractive',\n",
              "                                                     [key], {});\n",
              "          if (!dataTable) return;\n",
              "\n",
              "          const docLinkHtml = 'Like what you see? Visit the ' +\n",
              "            '<a target=\"_blank\" href=https://colab.research.google.com/notebooks/data_table.ipynb>data table notebook</a>'\n",
              "            + ' to learn more about interactive tables.';\n",
              "          element.innerHTML = '';\n",
              "          dataTable['output_type'] = 'display_data';\n",
              "          await google.colab.output.renderOutput(dataTable, element);\n",
              "          const docLink = document.createElement('div');\n",
              "          docLink.innerHTML = docLinkHtml;\n",
              "          element.appendChild(docLink);\n",
              "        }\n",
              "      </script>\n",
              "    </div>\n",
              "  </div>\n",
              "  "
            ]
          },
          "metadata": {},
          "execution_count": 79
        }
      ]
    },
    {
      "cell_type": "code",
      "source": [
        "# Plot a bar chart of the distribution of diagnoses\n",
        "ax = sns.countplot(binary_df[\"Diagnosis\"], color=\"mediumpurple\")\n",
        "\n",
        "# Annotate the bars with the counts\n",
        "for i, p in enumerate(ax.patches):\n",
        "    ax.annotate(format(p.get_height(), '.0f'),\n",
        "                (p.get_x() + p.get_width() / 2., p.get_height()),\n",
        "                ha='center', va='center',\n",
        "                xytext=(0, -7) if i == 0 or i == 1 else (0, 10),\n",
        "                textcoords='offset points')\n",
        "\n",
        "# Add axis labels and title\n",
        "plt.xlabel(\"Diagnosis\")\n",
        "plt.ylabel(\"Count\")\n",
        "plt.title(\"Distribution of Diagnoses\")\n",
        "\n",
        "# Show the plot\n",
        "plt.show()"
      ],
      "metadata": {
        "colab": {
          "base_uri": "https://localhost:8080/",
          "height": 350
        },
        "id": "LnPA8xXL00HU",
        "outputId": "f936f5ac-16f3-40cb-d5a7-2849f725d8ea"
      },
      "execution_count": null,
      "outputs": [
        {
          "output_type": "stream",
          "name": "stderr",
          "text": [
            "/usr/local/lib/python3.8/dist-packages/seaborn/_decorators.py:36: FutureWarning: Pass the following variable as a keyword arg: x. From version 0.12, the only valid positional argument will be `data`, and passing other arguments without an explicit keyword will result in an error or misinterpretation.\n",
            "  warnings.warn(\n"
          ]
        },
        {
          "output_type": "display_data",
          "data": {
            "text/plain": [
              "<Figure size 432x288 with 1 Axes>"
            ],
            "image/png": "[encoded data removed]"
          },
          "metadata": {
            "needs_background": "light"
          }
        }
      ]
    },
    {
      "cell_type": "code",
      "source": [
        "# Plot a box plot to compare the ages for each diagnosis\n",
        "sns.boxplot(x=\"Diagnosis\", y=\"Age\", data=df, palette='pastel')\n",
        "plt.xlabel(\"Diagnosis\")\n",
        "plt.ylabel(\"Age\")\n",
        "plt.title(\"Age Distribution by Diagnosis\")\n",
        "plt.show()"
      ],
      "metadata": {
        "colab": {
          "base_uri": "https://localhost:8080/",
          "height": 295
        },
        "id": "3y3Lt-Mt09vP",
        "outputId": "8ba5b5c8-4e3a-427a-f909-ff6ca7fe9d8d"
      },
      "execution_count": null,
      "outputs": [
        {
          "output_type": "display_data",
          "data": {
            "text/plain": [
              "<Figure size 432x288 with 1 Axes>"
            ],
            "image/png": "[encoded data removed]"
          },
          "metadata": {
            "needs_background": "light"
          }
        }
      ]
    },
    {
      "cell_type": "code",
      "source": [
        "grouped = df.groupby(\"Diagnosis\")\n",
        "stats = grouped[\"Age\"].agg([\"min\", \"max\", \"mean\", lambda x: x.max() - x.min()])\n",
        "stats.columns = [\"Min Age\", \"Max Age\", \"Mean Age\", \"Range\"]\n",
        "stats"
      ],
      "metadata": {
        "colab": {
          "base_uri": "https://localhost:8080/",
          "height": 175
        },
        "id": "X9B5_6aKhK6h",
        "outputId": "6708c2c7-328c-4d1e-bb66-3beee05614ef"
      },
      "execution_count": null,
      "outputs": [
        {
          "output_type": "execute_result",
          "data": {
            "text/plain": [
              "           Min Age  Max Age   Mean Age  Range\n",
              "Diagnosis                                    \n",
              "AD              56       90  74.696875     34\n",
              "CN              61       91  76.246050     30\n",
              "MCI             55       90  75.450350     35"
            ],
            "text/html": [
              "\n",
              "  <div id=\"df-053b7dc5-7cce-4ff1-9c2f-0dbd3e14348f\">\n",
              "    <div class=\"colab-df-container\">\n",
              "      <div>\n",
              "<style scoped>\n",
              "    .dataframe tbody tr th:only-of-type {\n",
              "        vertical-align: middle;\n",
              "    }\n",
              "\n",
              "    .dataframe tbody tr th {\n",
              "        vertical-align: top;\n",
              "    }\n",
              "\n",
              "    .dataframe thead th {\n",
              "        text-align: right;\n",
              "    }\n",
              "</style>\n",
              "<table border=\"1\" class=\"dataframe\">\n",
              "  <thead>\n",
              "    <tr style=\"text-align: right;\">\n",
              "      <th></th>\n",
              "      <th>Min Age</th>\n",
              "      <th>Max Age</th>\n",
              "      <th>Mean Age</th>\n",
              "      <th>Range</th>\n",
              "    </tr>\n",
              "    <tr>\n",
              "      <th>Diagnosis</th>\n",
              "      <th></th>\n",
              "      <th></th>\n",
              "      <th></th>\n",
              "      <th></th>\n",
              "    </tr>\n",
              "  </thead>\n",
              "  <tbody>\n",
              "    <tr>\n",
              "      <th>AD</th>\n",
              "      <td>56</td>\n",
              "      <td>90</td>\n",
              "      <td>74.696875</td>\n",
              "      <td>34</td>\n",
              "    </tr>\n",
              "    <tr>\n",
              "      <th>CN</th>\n",
              "      <td>61</td>\n",
              "      <td>91</td>\n",
              "      <td>76.246050</td>\n",
              "      <td>30</td>\n",
              "    </tr>\n",
              "    <tr>\n",
              "      <th>MCI</th>\n",
              "      <td>55</td>\n",
              "      <td>90</td>\n",
              "      <td>75.450350</td>\n",
              "      <td>35</td>\n",
              "    </tr>\n",
              "  </tbody>\n",
              "</table>\n",
              "</div>\n",
              "      <button class=\"colab-df-convert\" onclick=\"convertToInteractive('df-053b7dc5-7cce-4ff1-9c2f-0dbd3e14348f')\"\n",
              "              title=\"Convert this dataframe to an interactive table.\"\n",
              "              style=\"display:none;\">\n",
              "        \n",
              "  <svg xmlns=\"http://www.w3.org/2000/svg\" height=\"24px\"viewBox=\"0 0 24 24\"\n",
              "       width=\"24px\">\n",
              "    <path d=\"M0 0h24v24H0V0z\" fill=\"none\"/>\n",
              "    <path d=\"M18.56 5.44l.94 2.06.94-2.06 2.06-.94-2.06-.94-.94-2.06-.94 2.06-2.06.94zm-11 1L8.5 8.5l.94-2.06 2.06-.94-2.06-.94L8.5 2.5l-.94 2.06-2.06.94zm10 10l.94 2.06.94-2.06 2.06-.94-2.06-.94-.94-2.06-.94 2.06-2.06.94z\"/><path d=\"M17.41 7.96l-1.37-1.37c-.4-.4-.92-.59-1.43-.59-.52 0-1.04.2-1.43.59L10.3 9.45l-7.72 7.72c-.78.78-.78 2.05 0 2.83L4 21.41c.39.39.9.59 1.41.59.51 0 1.02-.2 1.41-.59l7.78-7.78 2.81-2.81c.8-.78.8-2.07 0-2.86zM5.41 20L4 18.59l7.72-7.72 1.47 1.35L5.41 20z\"/>\n",
              "  </svg>\n",
              "      </button>\n",
              "      \n",
              "  <style>\n",
              "    .colab-df-container {\n",
              "      display:flex;\n",
              "      flex-wrap:wrap;\n",
              "      gap: 12px;\n",
              "    }\n",
              "\n",
              "    .colab-df-convert {\n",
              "      background-color: #E8F0FE;\n",
              "      border: none;\n",
              "      border-radius: 50%;\n",
              "      cursor: pointer;\n",
              "      display: none;\n",
              "      fill: #1967D2;\n",
              "      height: 32px;\n",
              "      padding: 0 0 0 0;\n",
              "      width: 32px;\n",
              "    }\n",
              "\n",
              "    .colab-df-convert:hover {\n",
              "      background-color: #E2EBFA;\n",
              "      box-shadow: 0px 1px 2px rgba(60, 64, 67, 0.3), 0px 1px 3px 1px rgba(60, 64, 67, 0.15);\n",
              "      fill: #174EA6;\n",
              "    }\n",
              "\n",
              "    [theme=dark] .colab-df-convert {\n",
              "      background-color: #3B4455;\n",
              "      fill: #D2E3FC;\n",
              "    }\n",
              "\n",
              "    [theme=dark] .colab-df-convert:hover {\n",
              "      background-color: #434B5C;\n",
              "      box-shadow: 0px 1px 3px 1px rgba(0, 0, 0, 0.15);\n",
              "      filter: drop-shadow(0px 1px 2px rgba(0, 0, 0, 0.3));\n",
              "      fill: #FFFFFF;\n",
              "    }\n",
              "  </style>\n",
              "\n",
              "      <script>\n",
              "        const buttonEl =\n",
              "          document.querySelector('#df-053b7dc5-7cce-4ff1-9c2f-0dbd3e14348f button.colab-df-convert');\n",
              "        buttonEl.style.display =\n",
              "          google.colab.kernel.accessAllowed ? 'block' : 'none';\n",
              "\n",
              "        async function convertToInteractive(key) {\n",
              "          const element = document.querySelector('#df-053b7dc5-7cce-4ff1-9c2f-0dbd3e14348f');\n",
              "          const dataTable =\n",
              "            await google.colab.kernel.invokeFunction('convertToInteractive',\n",
              "                                                     [key], {});\n",
              "          if (!dataTable) return;\n",
              "\n",
              "          const docLinkHtml = 'Like what you see? Visit the ' +\n",
              "            '<a target=\"_blank\" href=https://colab.research.google.com/notebooks/data_table.ipynb>data table notebook</a>'\n",
              "            + ' to learn more about interactive tables.';\n",
              "          element.innerHTML = '';\n",
              "          dataTable['output_type'] = 'display_data';\n",
              "          await google.colab.output.renderOutput(dataTable, element);\n",
              "          const docLink = document.createElement('div');\n",
              "          docLink.innerHTML = docLinkHtml;\n",
              "          element.appendChild(docLink);\n",
              "        }\n",
              "      </script>\n",
              "    </div>\n",
              "  </div>\n",
              "  "
            ]
          },
          "metadata": {},
          "execution_count": 77
        }
      ]
    },
    {
      "cell_type": "code",
      "source": [
        "# Create a bar plot to compare diagnosis and sex\n",
        "grouped = df.groupby(['Diagnosis', 'Sex'])\n",
        "grouped.size().unstack().plot(kind='bar', stacked=False)\n",
        "plt.xlabel('Diagnosis')\n",
        "plt.xticks(rotation=0)\n",
        "plt.ylabel('Number of Patients')\n",
        "plt.title('Diagnosis vs Sex')\n",
        "plt.show()"
      ],
      "metadata": {
        "colab": {
          "base_uri": "https://localhost:8080/",
          "height": 295
        },
        "id": "7oXAOZHJ1CZo",
        "outputId": "8c5d83e8-c685-44ba-9332-28d6480a2500"
      },
      "execution_count": null,
      "outputs": [
        {
          "output_type": "display_data",
          "data": {
            "text/plain": [
              "<Figure size 432x288 with 1 Axes>"
            ],
            "image/png": "[encoded data removed]"
          },
          "metadata": {
            "needs_background": "light"
          }
        }
      ]
    },
    {
      "cell_type": "code",
      "source": [
        "# Create a histogram to visualize the distribution of ages\n",
        "plt.hist(df['Age'], bins=20)\n",
        "plt.xlabel('Age')\n",
        "plt.ylabel('Number of Patients')\n",
        "plt.title('Age Distribution')\n",
        "plt.show()"
      ],
      "metadata": {
        "colab": {
          "base_uri": "https://localhost:8080/",
          "height": 295
        },
        "id": "1XC8_4uy1axM",
        "outputId": "bfcde4c4-67e3-4f45-91be-6f1830d0d323"
      },
      "execution_count": null,
      "outputs": [
        {
          "output_type": "display_data",
          "data": {
            "text/plain": [
              "<Figure size 432x288 with 1 Axes>"
            ],
            "image/png": "[encoded data removed]"
          },
          "metadata": {
            "needs_background": "light"
          }
        }
      ]
    },
    {
      "cell_type": "code",
      "source": [
        "colors = ['lightgreen', 'mediumpurple', 'teal']\n",
        "\n",
        "# Create a plot for each diagnosis type\n",
        "for i, diagnosis in enumerate(df['Diagnosis'].unique()):\n",
        "    diagnosis_df = df[df['Diagnosis'] == diagnosis]\n",
        "    diagnosis_df['Age'].plot(kind='hist', alpha=0.5, color=colors[i], label=diagnosis)\n",
        "    plt.legend()\n",
        "    plt.xlabel('Age')\n",
        "    plt.ylabel('Count')\n",
        "    plt.title('Age Distribution per Diagnosis')\n",
        "\n",
        "plt.show()"
      ],
      "metadata": {
        "colab": {
          "base_uri": "https://localhost:8080/",
          "height": 295
        },
        "id": "SopFnzCZ1dwb",
        "outputId": "a8e62e16-a09a-4de6-9032-832916c7c1a2"
      },
      "execution_count": null,
      "outputs": [
        {
          "output_type": "display_data",
          "data": {
            "text/plain": [
              "<Figure size 432x288 with 1 Axes>"
            ],
            "image/png": "[encoded data removed]"
          },
          "metadata": {
            "needs_background": "light"
          }
        }
      ]
    },
    {
      "cell_type": "code",
      "source": [
        "for diagnosis in df['Diagnosis'].unique():\n",
        "    diagnosis_df = df[df['Diagnosis'] == diagnosis]\n",
        "    counts = diagnosis_df['Sex'].value_counts()\n",
        "    counts.plot(kind='bar', alpha=0.5, label=diagnosis, color=\"purple\")\n",
        "    plt.legend()\n",
        "    plt.xlabel('Sex')\n",
        "    plt.xticks(rotation=0)\n",
        "    plt.ylabel('Count')\n",
        "    plt.title('Sex Distribution per Diagnosis')\n",
        "\n",
        "plt.show()"
      ],
      "metadata": {
        "colab": {
          "base_uri": "https://localhost:8080/",
          "height": 295
        },
        "id": "Bm0tyYal48g5",
        "outputId": "b32dc0dd-f476-4429-a63d-758a84f321e3"
      },
      "execution_count": null,
      "outputs": [
        {
          "output_type": "display_data",
          "data": {
            "text/plain": [
              "<Figure size 432x288 with 1 Axes>"
            ],
            "image/png": "[encoded data removed]"
          },
          "metadata": {
            "needs_background": "light"
          }
        }
      ]
    },
    {
      "cell_type": "code",
      "source": [
        "grouped = df.groupby('Diagnosis')\n",
        "counts = grouped['Sex'].value_counts()\n",
        "print(counts)"
      ],
      "metadata": {
        "colab": {
          "base_uri": "https://localhost:8080/"
        },
        "id": "7dsumJtVj7io",
        "outputId": "ba929871-2cdf-4e8f-e4e3-195c63d1210a"
      },
      "execution_count": null,
      "outputs": [
        {
          "output_type": "stream",
          "name": "stdout",
          "text": [
            "Diagnosis  Sex\n",
            "AD         M      164\n",
            "           F      156\n",
            "CN         M      232\n",
            "           F      211\n",
            "MCI        M      449\n",
            "           F      266\n",
            "Name: Sex, dtype: int64\n"
          ]
        }
      ]
    },
    {
      "cell_type": "code",
      "source": [
        "for diagnosis in df['Diagnosis'].unique():\n",
        "    diagnosis_df = df[df['Diagnosis'] == diagnosis]\n",
        "    counts = diagnosis_df['Sex'].value_counts()\n",
        "    counts.plot(kind='bar', alpha=0.5, label=diagnosis)\n",
        "    plt.legend()\n",
        "    plt.xticks(rotation=0)\n",
        "    plt.xlabel('Sex (M/F)')\n",
        "    plt.ylabel('Count')\n",
        "    plt.title('Sex Distribution per Diagnosis')\n",
        "\n",
        "plt.show()"
      ],
      "metadata": {
        "colab": {
          "base_uri": "https://localhost:8080/",
          "height": 295
        },
        "id": "iJj5R6r26OCG",
        "outputId": "b916b8f4-7525-40ca-daae-3a6421af4840"
      },
      "execution_count": null,
      "outputs": [
        {
          "output_type": "display_data",
          "data": {
            "text/plain": [
              "<Figure size 432x288 with 1 Axes>"
            ],
            "image/png": "[encoded data removed]"
          },
          "metadata": {
            "needs_background": "light"
          }
        }
      ]
    },
    {
      "cell_type": "code",
      "source": [
        "# data\n",
        "sizes = [10, 10, 80]\n",
        "labels = ['Validation Set : 76 MRIs', 'Test Set : 77 MRIs', 'Training Set : 610 MRIs']\n",
        "\n",
        "colors = ['lightblue', 'salmon', 'mediumpurple']\n",
        "\n",
        "# plot pie chart\n",
        "fig, ax = plt.subplots()\n",
        "ax.pie(sizes, labels=labels, autopct='%1.1f%%', startangle=90, colors = colors)\n",
        "ax.axis('equal')  # equal aspect ratio ensures that pie is drawn as a circle\n",
        "ax.set_title('Data split')\n",
        "\n",
        "plt.show()\n"
      ],
      "metadata": {
        "id": "UqZSr-C56bN9",
        "colab": {
          "base_uri": "https://localhost:8080/",
          "height": 264
        },
        "outputId": "fdd565ca-e6e1-4779-b32a-d52ac12d9ca9"
      },
      "execution_count": null,
      "outputs": [
        {
          "output_type": "display_data",
          "data": {
            "text/plain": [
              "<Figure size 432x288 with 1 Axes>"
            ],
            "image/png": "[encoded data removed]"
          },
          "metadata": {}
        }
      ]
    },
    {
      "cell_type": "code",
      "source": [
        "# data\n",
        "sizes = [42.6, 57.4]\n",
        "labels = ['CN : 260 MRIs', 'AD : 350 MRIs']\n",
        "\n",
        "colors = ['lightblue', 'salmon', 'mediumpurple']\n",
        "\n",
        "# plot pie chart\n",
        "fig, ax = plt.subplots()\n",
        "ax.pie(sizes, labels=labels, autopct='%1.1f%%', startangle=90, colors = colors)\n",
        "ax.axis('equal')  # equal aspect ratio ensures that pie is drawn as a circle\n",
        "ax.set_title('Training set')\n",
        "\n",
        "plt.show()"
      ],
      "metadata": {
        "id": "4zpEMTc-7RqH",
        "colab": {
          "base_uri": "https://localhost:8080/",
          "height": 264
        },
        "outputId": "17464e9f-201c-48d2-d20d-84eab20eb1fb"
      },
      "execution_count": null,
      "outputs": [
        {
          "output_type": "display_data",
          "data": {
            "text/plain": [
              "<Figure size 432x288 with 1 Axes>"
            ],
            "image/png": "[encoded data removed]"
          },
          "metadata": {}
        }
      ]
    },
    {
      "cell_type": "code",
      "source": [
        "sizes = [31.36, 34.98, 33.66]\n",
        "labels = ['MCI : 615 MRIs', 'CN : 686 MRIs', 'AD : 660 MRIs']\n",
        "\n",
        "colors = ['lightblue', 'salmon', 'mediumpurple']\n",
        "\n",
        "# plot pie chart\n",
        "fig, ax = plt.subplots()\n",
        "ax.pie(sizes, labels=labels, autopct='%1.1f%%', startangle=90, colors = colors)\n",
        "ax.axis('equal')  # equal aspect ratio ensures that pie is drawn as a circle\n",
        "ax.set_title('Balanced training set')\n",
        "\n",
        "plt.show()"
      ],
      "metadata": {
        "id": "5LyLAiFv7TkK"
      },
      "execution_count": null,
      "outputs": []
    },
    {
      "cell_type": "code",
      "source": [
        "# data\n",
        "sizes = [42.1, 57.9]\n",
        "labels = ['CN : 32 MRIs', 'AD : 44 MRIs']\n",
        "\n",
        "colors = ['lightblue', 'salmon', 'mediumpurple']\n",
        "\n",
        "# plot pie chart\n",
        "fig, ax = plt.subplots()\n",
        "ax.pie(sizes, labels=labels, autopct='%1.1f%%', startangle=90, colors = colors)\n",
        "ax.axis('equal')  # equal aspect ratio ensures that pie is drawn as a circle\n",
        "ax.set_title('Validation set')\n",
        "\n",
        "plt.show()"
      ],
      "metadata": {
        "id": "2TwRLUdk7WKf",
        "colab": {
          "base_uri": "https://localhost:8080/",
          "height": 264
        },
        "outputId": "46a3fbb8-7aee-41d9-b87a-c04b2717c859"
      },
      "execution_count": null,
      "outputs": [
        {
          "output_type": "display_data",
          "data": {
            "text/plain": [
              "<Figure size 432x288 with 1 Axes>"
            ],
            "image/png": "[encoded data removed]"
          },
          "metadata": {}
        }
      ]
    }
  ]
}